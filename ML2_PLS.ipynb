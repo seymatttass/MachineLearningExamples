{
  "nbformat": 4,
  "nbformat_minor": 0,
  "metadata": {
    "colab": {
      "provenance": [],
      "include_colab_link": true
    },
    "kernelspec": {
      "name": "python3",
      "display_name": "Python 3"
    },
    "language_info": {
      "name": "python"
    }
  },
  "cells": [
    {
      "cell_type": "markdown",
      "metadata": {
        "id": "view-in-github",
        "colab_type": "text"
      },
      "source": [
        "<a href=\"https://colab.research.google.com/github/seymatttass/MachineLearningExamples/blob/main/ML2_PLS.ipynb\" target=\"_parent\"><img src=\"https://colab.research.google.com/assets/colab-badge.svg\" alt=\"Open In Colab\"/></a>"
      ]
    },
    {
      "cell_type": "code",
      "execution_count": null,
      "metadata": {
        "colab": {
          "base_uri": "https://localhost:8080/"
        },
        "id": "R2mUCDnVh7ds",
        "outputId": "a04424b6-1900-4d3a-8d67-60c466191ade"
      },
      "outputs": [
        {
          "output_type": "stream",
          "name": "stdout",
          "text": [
            "Mounted at /content/drive\n"
          ]
        }
      ],
      "source": [
        "from google.colab import drive\n",
        "drive.mount('/content/drive')"
      ]
    },
    {
      "cell_type": "code",
      "source": [
        "import pandas as pd\n",
        "import numpy as np\n",
        "import matplotlib.pyplot as plt\n",
        "from sklearn.model_selection import train_test_split, GridSearchCV, cross_val_score\n",
        "from sklearn.metrics import mean_squared_error, r2_score\n",
        "import statsmodels.api as sm"
      ],
      "metadata": {
        "id": "FbF0xZUVjqjK"
      },
      "execution_count": null,
      "outputs": []
    },
    {
      "cell_type": "code",
      "source": [
        "import pandas as pd\n",
        "import numpy as np\n",
        "\n",
        "hit = pd.read_csv(\"/content/drive/MyDrive/Ornek_calısmalar/Hitters.csv\")\n",
        "df = hit.copy()\n",
        "df = df.dropna()\n",
        "dms = pd.get_dummies(df[[\"League\",\"Division\",\"NewLeague\"]])\n",
        "y = df[\"Salary\"]\n",
        "X_ = df.drop([\"Salary\",\"League\",\"Division\",\"NewLeague\"],axis=1).astype(\"float64\")\n",
        "X = pd.concat([X_,dms[[\"League_N\",\"Division_W\",\"NewLeague_N\"]]],axis =1)\n",
        "X_train,X_test,y_train,y_test = train_test_split(X,y,test_size=0.25,random_state=42)"
      ],
      "metadata": {
        "id": "egCoLk-NiBbY"
      },
      "execution_count": null,
      "outputs": []
    },
    {
      "cell_type": "code",
      "source": [
        "from sklearn.cross_decomposition import PLSRegression,PLSSVD"
      ],
      "metadata": {
        "id": "7VAOAJsYjdgz"
      },
      "execution_count": null,
      "outputs": []
    },
    {
      "cell_type": "code",
      "source": [
        "pls_model = PLSRegression(n_components=2).fit(X_train,y_train)"
      ],
      "metadata": {
        "id": "Rs_XgJuKkGle"
      },
      "execution_count": null,
      "outputs": []
    },
    {
      "cell_type": "code",
      "source": [
        "pls_model.coef_"
      ],
      "metadata": {
        "colab": {
          "base_uri": "https://localhost:8080/"
        },
        "id": "Woff7PyukK5h",
        "outputId": "2887bf99-0b19-4b9a-a24d-23359ff2ca3a"
      },
      "execution_count": null,
      "outputs": [
        {
          "output_type": "execute_result",
          "data": {
            "text/plain": [
              "array([[ 2.47335600e-01,  1.13030348e+00,  2.08295898e+00,\n",
              "         1.58599864e+00,  1.20781837e+00,  1.91015780e+00,\n",
              "         3.55673082e+00,  1.21724059e-02,  4.94616408e-02,\n",
              "         2.58964530e-01,  9.96443520e-02,  9.25548551e-02,\n",
              "         9.84366218e-02,  1.77753399e-01,  4.68377973e-02,\n",
              "        -1.43965788e-01,  3.51398888e+01, -7.43195797e+01,\n",
              "         2.93829559e+01]])"
            ]
          },
          "metadata": {},
          "execution_count": 13
        }
      ]
    },
    {
      "cell_type": "code",
      "source": [
        "#TAHMİN\n",
        "\n",
        "pls_model.predict(X_train)[0:10]"
      ],
      "metadata": {
        "colab": {
          "base_uri": "https://localhost:8080/"
        },
        "id": "VQL2Q-Gtkbvn",
        "outputId": "ce5c39b0-f894-48b2-c003-b93b8796a232"
      },
      "execution_count": null,
      "outputs": [
        {
          "output_type": "execute_result",
          "data": {
            "text/plain": [
              "array([344.91941493, 848.87070769, 692.93622642, 185.56577984,\n",
              "       435.49196077, 987.49530026, 120.63097106, 289.9263406 ,\n",
              "       663.41886918, 817.90486641])"
            ]
          },
          "metadata": {},
          "execution_count": 14
        }
      ]
    },
    {
      "cell_type": "code",
      "source": [
        "y_pred = pls_model.predict(X_train)"
      ],
      "metadata": {
        "id": "mazdgGtlkjE5"
      },
      "execution_count": null,
      "outputs": []
    },
    {
      "cell_type": "code",
      "source": [
        "np.sqrt(mean_squared_error(y_train,y_pred))"
      ],
      "metadata": {
        "colab": {
          "base_uri": "https://localhost:8080/"
        },
        "id": "C0Fc-t6Qknz7",
        "outputId": "736edf16-6825-4f27-d69f-fa18e1b15ea5"
      },
      "execution_count": null,
      "outputs": [
        {
          "output_type": "execute_result",
          "data": {
            "text/plain": [
              "310.1167593109696"
            ]
          },
          "metadata": {},
          "execution_count": 16
        }
      ]
    },
    {
      "cell_type": "code",
      "source": [
        "r2_score(y_train,y_pred)"
      ],
      "metadata": {
        "colab": {
          "base_uri": "https://localhost:8080/"
        },
        "id": "-w83twe3ksX4",
        "outputId": "ddd41ca2-4d40-46ce-9d57-e53091aa0d48"
      },
      "execution_count": null,
      "outputs": [
        {
          "output_type": "execute_result",
          "data": {
            "text/plain": [
              "0.5140424486535481"
            ]
          },
          "metadata": {},
          "execution_count": 17
        }
      ]
    },
    {
      "cell_type": "code",
      "source": [
        "y_pred = pls_model.predict(X_test)"
      ],
      "metadata": {
        "id": "JzrDDORmkyHr"
      },
      "execution_count": null,
      "outputs": []
    },
    {
      "cell_type": "code",
      "source": [
        "np.sqrt(mean_squared_error(y_test,y_pred))"
      ],
      "metadata": {
        "colab": {
          "base_uri": "https://localhost:8080/"
        },
        "id": "iFhsxG4Gkz60",
        "outputId": "5c279add-baf8-484d-91bf-0fcbbae69f43"
      },
      "execution_count": null,
      "outputs": [
        {
          "output_type": "execute_result",
          "data": {
            "text/plain": [
              "398.09956327448526"
            ]
          },
          "metadata": {},
          "execution_count": 19
        }
      ]
    },
    {
      "cell_type": "code",
      "source": [
        "from sklearn.model_selection import train_test_split, KFold, cross_val_score\n",
        "from sklearn.cross_decomposition import PLSRegression\n",
        "import numpy as np\n",
        "import matplotlib.pyplot as plt\n",
        "\n",
        "# KFold nesnesi oluşturma\n",
        "cv_10 = KFold(n_splits=10, shuffle=True, random_state=1)\n",
        "\n",
        "RMSE = []\n",
        "\n",
        "for i in np.arange(1, X_train.shape[1] + 1):\n",
        "    pls = PLSRegression(n_components=i)\n",
        "    score = np.sqrt(-1 * cross_val_score(pls, X_train, y_train, cv=cv_10, scoring=\"neg_mean_squared_error\").mean())\n",
        "    RMSE.append(score)\n",
        "\n",
        "# RMSE sonuçlarını grafikte gösterme\n",
        "plt.plot(np.arange(1, X_train.shape[1] + 1), np.array(RMSE), '-v', c='r')\n",
        "plt.xlabel(\"Bileşen sayısı\")\n",
        "plt.ylabel(\"RMSE\")\n",
        "plt.title(\"Salary\")\n",
        "plt.show()\n"
      ],
      "metadata": {
        "colab": {
          "base_uri": "https://localhost:8080/",
          "height": 472
        },
        "id": "4rTvo5okk2p5",
        "outputId": "79472834-0f54-46ce-cb2b-f1200d898426"
      },
      "execution_count": null,
      "outputs": [
        {
          "output_type": "display_data",
          "data": {
            "text/plain": [
              "<Figure size 640x480 with 1 Axes>"
            ],
            "image/png": "[encoded data removed]"
          },
          "metadata": {}
        }
      ]
    },
    {
      "cell_type": "code",
      "source": [
        "pls_model = PLSRegression(n_components=2).fit(X_train,y_train)"
      ],
      "metadata": {
        "id": "LFQq5ccml9QH"
      },
      "execution_count": null,
      "outputs": []
    },
    {
      "cell_type": "code",
      "source": [
        "y_pred = pls_model.predict(X_test)"
      ],
      "metadata": {
        "id": "s76IUry4nt6H"
      },
      "execution_count": null,
      "outputs": []
    },
    {
      "cell_type": "code",
      "source": [
        "np.sqrt(mean_squared_error(y_test,y_pred))"
      ],
      "metadata": {
        "colab": {
          "base_uri": "https://localhost:8080/"
        },
        "id": "3GMamnl1n1HP",
        "outputId": "c88ad797-80cb-4af7-cf2d-02e506a2f852"
      },
      "execution_count": null,
      "outputs": [
        {
          "output_type": "execute_result",
          "data": {
            "text/plain": [
              "398.09956327448526"
            ]
          },
          "metadata": {},
          "execution_count": 37
        }
      ]
    },
    {
      "cell_type": "code",
      "source": [],
      "metadata": {
        "id": "7AuDwPNrn_6H"
      },
      "execution_count": null,
      "outputs": []
    }
  ]
}